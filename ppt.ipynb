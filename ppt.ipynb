{
 "cells": [
  {
   "cell_type": "code",
   "execution_count": null,
   "metadata": {},
   "outputs": [
    {
     "name": "stdout",
     "output_type": "stream",
     "text": [
      "vamos a jugar a Papel-Piedra-Tijera\n",
      "opciones: {1: 'Papel', 2: 'Piedra', 3: 'Tijera'}\n",
      "tu elegiste: Papel\n",
      "ordenador elegio: Piedra\n",
      "ganaste!\n"
     ]
    }
   ],
   "source": [
    "import random\n",
    "\n",
    "opciones = {1:\"Papel\", 2:\"Piedra\", 3:\"Tijera\"}\n",
    "\n",
    "print(\"Vamos a jugar a Papel-Piedra-Tijera\")\n",
    "print(f\"opciones: {opciones}\")\n",
    "opcion_elegida = int(input(\"Elige una opcion: \"))\n",
    "\n",
    "opciones_keys = list(opciones.keys())\n",
    "\n",
    "if opcion_elegida not in opciones_keys:\n",
    "    print(\"opcion elegida no es valida\")\n",
    "else:\n",
    "    computer_opcion = random.choice(opciones_keys)\n",
    "    print(f\"tu elegiste: {opciones[opcion_elegida]}\")\n",
    "    print(f\"ordenador elegio: {opciones[computer_opcion]}\")\n",
    "\n",
    "    if opcion_elegida == 1:\n",
    "        if computer_opcion == 1: print(\"opciones iguales\")\n",
    "        elif computer_opcion == 2: print(\"ganaste!\")\n",
    "        else: print(\"perdiste!\")\n",
    "\n",
    "    elif opcion_elegida == 2:\n",
    "        if computer_opcion == 1: print(\"perdiste!\")\n",
    "        elif computer_opcion == 2: print(\"opciones iguales\")\n",
    "        else: print(\"ganaste!\")\n",
    "\n",
    "    else:\n",
    "        if computer_opcion == 1: print(\"ganaste!\")\n",
    "        elif computer_opcion == 2: print(\"perdiste!\")\n",
    "        else: print(\"opciones iguales\")\n",
    "\n",
    "\n"
   ]
  }
 ],
 "metadata": {
  "kernelspec": {
   "display_name": "Python 3",
   "language": "python",
   "name": "python3"
  },
  "language_info": {
   "codemirror_mode": {
    "name": "ipython",
    "version": 3
   },
   "file_extension": ".py",
   "mimetype": "text/x-python",
   "name": "python",
   "nbconvert_exporter": "python",
   "pygments_lexer": "ipython3",
   "version": "3.13.0"
  }
 },
 "nbformat": 4,
 "nbformat_minor": 2
}
